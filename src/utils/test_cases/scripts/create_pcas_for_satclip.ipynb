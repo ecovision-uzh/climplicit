{
 "cells": [
  {
   "cell_type": "code",
   "execution_count": 4,
   "id": "a1d187db-3dc1-460f-aff5-9067fbe1a10b",
   "metadata": {},
   "outputs": [],
   "source": [
    "import numpy as np\n",
    "from sklearn.decomposition import PCA\n",
    "from sklearn.manifold import TSNE\n",
    "import matplotlib.pyplot as plt\n",
    "\n",
    "import sys\n",
    "sys.path.append('/home/jdolli/chelsaCLIP/src/utils/test_cases')\n",
    "from util_datasets import *\n",
    "\n",
    "def create_map_visual_satCLIP(reduction, scope):\n",
    "    \n",
    "    \"\"\"all_encs = np.load(\"/home/jdolli/chelsaCLIP/src/utils/test_cases/data/satCLIP_intermediate_\" + scope + \".npy\")\n",
    "    pca = PCA(n_components=3).fit(all_encs)\n",
    "    red = pca.transform(all_encs)\n",
    "    print(\"Loaded:\", all_encs.shape)\n",
    "    \n",
    "    if reduction == \"first_three\":\n",
    "        red = all_encs[:,:3]\n",
    "    elif reduction == \"first\":\n",
    "        red = all_encs[:,0]\n",
    "    elif reduction == \"second\":\n",
    "        red = all_encs[:,1]\n",
    "    elif reduction == \"pca\":\n",
    "        pca = PCA(n_components=3).fit(all_encs)\n",
    "        red = pca.transform(all_encs)\n",
    "    elif reduction == \"tsne\":\n",
    "        red = TSNE(n_components=3).fit_transform(all_encs)\"\"\"\n",
    "    \n",
    "    red = np.load(\"/home/jdolli/chelsaCLIP/src/utils/test_cases/data/satCLIP_temp_red_\" + scope + \".npy\")\n",
    "    print(\"Done with reduction:\", reduction)\n",
    "\n",
    "    if scope == \"swi\":\n",
    "        ds = SwitzerlandDataset()\n",
    "    elif scope == \"swi_tc\":\n",
    "        ds = SwitzerlandDatasetTC()\n",
    "    elif scope == \"zur\":\n",
    "        ds = ZurichDataset()\n",
    "    elif scope == \"euro\":\n",
    "        ds = EuropeDataset()\n",
    "    elif scope == \"world\":\n",
    "        ds = WorldDataset()\n",
    "\n",
    "    if not hasattr(ds, 'land_mask'):\n",
    "        red = red.reshape(ds.y_pixel, ds.x_pixel, -1)\n",
    "    else:\n",
    "        zeros = np.zeros((ds.y_pixel, ds.x_pixel, red.shape[-1]))\n",
    "        zeros[ds.land_mask] = red\n",
    "        red = zeros\n",
    "        \n",
    "    red = (red - red.min()) / (red.max() - red.min())\n",
    "    plt.imsave(\"/home/jdolli/chelsaCLIP/src/utils/test_cases/data/satCLIP_\" + reduction + \"_\" + scope + \".png\", red)"
   ]
  },
  {
   "cell_type": "code",
   "execution_count": 5,
   "id": "2001c418-b409-4e80-910d-486c805ca805",
   "metadata": {},
   "outputs": [
    {
     "name": "stdout",
     "output_type": "stream",
     "text": [
      "Done with reduction: pca\n",
      "Done with reduction: pca\n",
      "Done with reduction: pca\n",
      "Done with reduction: pca\n"
     ]
    }
   ],
   "source": [
    "create_map_visual_satCLIP(\"pca\", \"zur\")\n",
    "create_map_visual_satCLIP(\"pca\", \"swi_tc\")\n",
    "create_map_visual_satCLIP(\"pca\", \"euro\")\n",
    "create_map_visual_satCLIP(\"pca\", \"world\")"
   ]
  },
  {
   "cell_type": "code",
   "execution_count": 1,
   "id": "93d525cc-5382-4437-85fb-61673278857d",
   "metadata": {},
   "outputs": [
    {
     "name": "stdout",
     "output_type": "stream",
     "text": [
      "(92400, 3)\n"
     ]
    }
   ],
   "source": [
    "import numpy as np\n",
    "from sklearn.decomposition import PCA\n",
    "#import sklearn\n",
    "#sklearn.set_config(array_api_dispatch=True)\n",
    "\n",
    "import sys\n",
    "#sys.path.append('/home/jdolli/chelsaCLIP/src/utils/test_cases/subfolder')\n",
    "#from test import *\n",
    "sys.path.append('/home/jdolli/chelsaCLIP/src/utils/test_cases')\n",
    "from util_datasets import *\n",
    "#from test_fil import *\n",
    "from sklearn.utils._array_api import get_namespace\n",
    "import importlib\n",
    "#importlib.reload(test_fil) \n",
    "\n",
    "def create_map_visual_satCLIP(reduction, scope):\n",
    "    all_encs = np.load(\"/home/jdolli/chelsaCLIP/src/utils/test_cases/data/satCLIP_intermediate_\" +\n",
    "                       scope + \".npy\")\n",
    "    pca = PCA(n_components=3).fit(all_encs)\n",
    "    red = pca.transform(all_encs)\n",
    "    print(red.shape)\n",
    "    np.save(\"/home/jdolli/chelsaCLIP/src/utils/test_cases/data/satCLIP_temp_red_\" + scope + \".npy\", red)\n",
    "create_map_visual_satCLIP(\"..\", \"zur\")"
   ]
  },
  {
   "cell_type": "code",
   "execution_count": null,
   "id": "7642aced-20ee-4942-af38-25dccd9e6400",
   "metadata": {},
   "outputs": [],
   "source": []
  }
 ],
 "metadata": {
  "kernelspec": {
   "display_name": "glc23",
   "language": "python",
   "name": "glc23"
  },
  "language_info": {
   "codemirror_mode": {
    "name": "ipython",
    "version": 3
   },
   "file_extension": ".py",
   "mimetype": "text/x-python",
   "name": "python",
   "nbconvert_exporter": "python",
   "pygments_lexer": "ipython3",
   "version": "3.9.16"
  }
 },
 "nbformat": 4,
 "nbformat_minor": 5
}
