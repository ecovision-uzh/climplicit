{
 "cells": [
  {
   "cell_type": "code",
   "execution_count": 4,
   "id": "e826a3ff-f46c-46de-ba5b-871f12548b03",
   "metadata": {
    "execution": {
     "iopub.execute_input": "2024-11-19T12:26:37.935342Z",
     "iopub.status.busy": "2024-11-19T12:26:37.934968Z",
     "iopub.status.idle": "2024-11-19T12:26:37.937674Z",
     "shell.execute_reply": "2024-11-19T12:26:37.937146Z",
     "shell.execute_reply.started": "2024-11-19T12:26:37.935324Z"
    }
   },
   "outputs": [],
   "source": [
    "import torch\n",
    "import numpy as np"
   ]
  },
  {
   "cell_type": "code",
   "execution_count": 28,
   "id": "abd0fe91-02c7-405e-abd7-1b34743388fd",
   "metadata": {
    "execution": {
     "iopub.execute_input": "2024-11-19T12:56:26.403009Z",
     "iopub.status.busy": "2024-11-19T12:56:26.402582Z",
     "iopub.status.idle": "2024-11-19T12:56:26.410622Z",
     "shell.execute_reply": "2024-11-19T12:56:26.410215Z",
     "shell.execute_reply.started": "2024-11-19T12:56:26.402989Z"
    }
   },
   "outputs": [
    {
     "name": "stdout",
     "output_type": "stream",
     "text": [
      "Recall tensor([0.5000, 1.0000, 0.0000])\n",
      "Precision tensor([0.5000, 0.5000])\n"
     ]
    }
   ],
   "source": [
    "class PerClassMetrics():\n",
    "    def __init__(self, num_classes):\n",
    "        self.pc_tp = torch.zeros((num_classes))\n",
    "        self.pc_true = torch.zeros((num_classes))\n",
    "        self.pc_positive = torch.zeros((num_classes))\n",
    "        self.num_samples = 0\n",
    "    def update(self, out, Id):\n",
    "        label = torch.zeros_like(out)\n",
    "        label[np.arange(len(label)), Id] = 1\n",
    "        out_max = torch.zeros_like(out)\n",
    "        out_max[np.arange(len(label)), torch.argmax(out, dim=1)] = 1\n",
    "        self.pc_tp += (label * out_max).sum(dim=0) \n",
    "        self.pc_true += label.sum(dim=0)\n",
    "        self.pc_positive += out_max.sum(dim=0)\n",
    "        self.num_samples += len(out)\n",
    "    def calculate(self):\n",
    "        recall = self.pc_tp/self.pc_true\n",
    "        precision = self.pc_tp/self.pc_positive\n",
    "        recall = recall[self.pc_true > 0]\n",
    "        precision = precision[self.pc_positive > 0]\n",
    "        return recall, precision\n",
    "\n",
    "pcm = PerClassMetrics(4)\n",
    "out = torch.tensor([[0.1,1, 0, 0],[-0.3,4, 1, 0], [1,0, 0.5, 0], [-1,-2,-3, -5]])\n",
    "Id = torch.tensor([1, 0, 0, 2])\n",
    "pcm.update(out, Id)\n",
    "recall, precision = pcm.calculate()\n",
    "print(\"Recall\", recall)\n",
    "print(\"Precision\", precision)"
   ]
  },
  {
   "cell_type": "code",
   "execution_count": null,
   "id": "afee814b-95ad-4b50-903f-286a3b9ce2fe",
   "metadata": {},
   "outputs": [],
   "source": []
  }
 ],
 "metadata": {
  "kernelspec": {
   "display_name": "glc23",
   "language": "python",
   "name": "glc23"
  },
  "language_info": {
   "codemirror_mode": {
    "name": "ipython",
    "version": 3
   },
   "file_extension": ".py",
   "mimetype": "text/x-python",
   "name": "python",
   "nbconvert_exporter": "python",
   "pygments_lexer": "ipython3",
   "version": "3.9.16"
  }
 },
 "nbformat": 4,
 "nbformat_minor": 5
}
