{
 "cells": [
  {
   "cell_type": "code",
   "execution_count": 2,
   "id": "e3d2e28f-5f3a-49f8-87e2-db382b2f25fc",
   "metadata": {},
   "outputs": [],
   "source": [
    "import pandas as pd"
   ]
  },
  {
   "cell_type": "code",
   "execution_count": 4,
   "id": "43fe05b9-f1c4-408f-aef3-3dba1061aace",
   "metadata": {},
   "outputs": [],
   "source": [
    "full_data = pd.read_csv('/shares/wegner.ics.uzh/glc23_data/Presences_only_train.csv', sep=\";\", header='infer', low_memory=False)"
   ]
  },
  {
   "cell_type": "code",
   "execution_count": 5,
   "id": "381d5832-bbb7-46a4-a42a-f76c48646883",
   "metadata": {},
   "outputs": [
    {
     "data": {
      "text/plain": [
       "'sw = full_data[full_data[\"lat\"]>S]\\nsw = sw[sw[\"lat\"]<N]\\nsw = sw[sw[\"lon\"]>W]\\nsw = sw[sw[\"lon\"]<E]'"
      ]
     },
     "execution_count": 5,
     "metadata": {},
     "output_type": "execute_result"
    }
   ],
   "source": [
    "N = 47.813\n",
    "W = 5.933\n",
    "S = 45.806\n",
    "E = 10.514\n",
    "\n",
    "\"\"\"sw = full_data[full_data[\"lat\"]>S]\n",
    "sw = sw[sw[\"lat\"]<N]\n",
    "sw = sw[sw[\"lon\"]>W]\n",
    "sw = sw[sw[\"lon\"]<E]\"\"\""
   ]
  },
  {
   "cell_type": "code",
   "execution_count": 6,
   "id": "a3eac971-1df4-4431-a596-0461a6fea734",
   "metadata": {},
   "outputs": [],
   "source": [
    "import torch"
   ]
  },
  {
   "cell_type": "code",
   "execution_count": 9,
   "id": "1425b8bc-de16-49fa-90c3-9929ea485f03",
   "metadata": {},
   "outputs": [
    {
     "name": "stdout",
     "output_type": "stream",
     "text": [
      "tensor([[ 8.2222,  8.4745,  7.3523,  9.5212,  9.3297],\n",
      "        [45.8617, 47.7556, 46.4322, 47.3357, 47.4297]])\n"
     ]
    }
   ],
   "source": [
    "lon = torch.rand(5) * (E-W) + W\n",
    "lat = torch.rand(5) * (N-S) + S\n",
    "print(torch.stack([lon, lat]))"
   ]
  },
  {
   "cell_type": "code",
   "execution_count": 9,
   "id": "395f7cfb-de13-4090-8147-caa20d0ec7d8",
   "metadata": {},
   "outputs": [],
   "source": [
    "sw.to_csv('/shares/wegner.ics.uzh/glc23_data/Switzerland_PO.csv', sep=\";\")"
   ]
  },
  {
   "cell_type": "code",
   "execution_count": 12,
   "id": "7316d94c-0638-4f27-bf1c-265dc4a120f1",
   "metadata": {},
   "outputs": [
    {
     "data": {
      "text/plain": [
       "3271    4092\n",
       "529     3518\n",
       "8393    3385\n",
       "6288    2945\n",
       "5626    2928\n",
       "        ... \n",
       "744        1\n",
       "8509       1\n",
       "6211       1\n",
       "1490       1\n",
       "6018       1\n",
       "Name: speciesId, Length: 2989, dtype: int64"
      ]
     },
     "execution_count": 12,
     "metadata": {},
     "output_type": "execute_result"
    }
   ],
   "source": [
    "sw[\"speciesId\"].value_counts()"
   ]
  },
  {
   "cell_type": "code",
   "execution_count": null,
   "id": "000bd771-cafd-4791-ba54-f1885fb966b0",
   "metadata": {},
   "outputs": [],
   "source": []
  }
 ],
 "metadata": {
  "kernelspec": {
   "display_name": "glc23",
   "language": "python",
   "name": "glc23"
  },
  "language_info": {
   "codemirror_mode": {
    "name": "ipython",
    "version": 3
   },
   "file_extension": ".py",
   "mimetype": "text/x-python",
   "name": "python",
   "nbconvert_exporter": "python",
   "pygments_lexer": "ipython3",
   "version": "3.9.16"
  }
 },
 "nbformat": 4,
 "nbformat_minor": 5
}
