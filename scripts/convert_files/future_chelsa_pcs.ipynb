{
 "cells": [
  {
   "cell_type": "code",
   "execution_count": 22,
   "id": "79f92ce5-323d-4daf-ab64-85900e65eb8b",
   "metadata": {
    "execution": {
     "iopub.execute_input": "2025-03-19T15:22:03.121066Z",
     "iopub.status.busy": "2025-03-19T15:22:03.120506Z",
     "iopub.status.idle": "2025-03-19T15:22:03.124780Z",
     "shell.execute_reply": "2025-03-19T15:22:03.124224Z",
     "shell.execute_reply.started": "2025-03-19T15:22:03.121041Z"
    }
   },
   "outputs": [],
   "source": [
    "import numpy as np\n",
    "import rioxarray"
   ]
  },
  {
   "cell_type": "code",
   "execution_count": 23,
   "id": "58db24c5-622f-49a0-9f65-cc48e82e8824",
   "metadata": {
    "execution": {
     "iopub.execute_input": "2025-03-19T15:22:04.817403Z",
     "iopub.status.busy": "2025-03-19T15:22:04.817112Z",
     "iopub.status.idle": "2025-03-19T15:22:04.820448Z",
     "shell.execute_reply": "2025-03-19T15:22:04.819905Z",
     "shell.execute_reply.started": "2025-03-19T15:22:04.817383Z"
    }
   },
   "outputs": [],
   "source": [
    "CHELSA_DIR = \"/shares/wegner.ics.uzh/CHELSA/Future_Climatologies/\""
   ]
  },
  {
   "cell_type": "code",
   "execution_count": 24,
   "id": "6dde2d21-36ec-4a12-965e-e762de64d92e",
   "metadata": {
    "execution": {
     "iopub.execute_input": "2025-03-19T15:22:05.394084Z",
     "iopub.status.busy": "2025-03-19T15:22:05.393670Z",
     "iopub.status.idle": "2025-03-19T15:22:06.327219Z",
     "shell.execute_reply": "2025-03-19T15:22:06.326622Z",
     "shell.execute_reply.started": "2025-03-19T15:22:05.394063Z"
    }
   },
   "outputs": [],
   "source": [
    "refras =  rioxarray.open_rasterio(CHELSA_DIR + \"tifs/CHELSA_gfdl-esm4_r1i1p1f1_w5e5_ssp585_tasmin_07_2071_2100_norm.tif\", cache=False)\n",
    "ys = refras.y\n",
    "xs = refras.x"
   ]
  },
  {
   "cell_type": "code",
   "execution_count": 25,
   "id": "6526022d-e28e-431f-8494-21f471b21d17",
   "metadata": {
    "execution": {
     "iopub.execute_input": "2025-03-19T15:22:07.891069Z",
     "iopub.status.busy": "2025-03-19T15:22:07.890548Z",
     "iopub.status.idle": "2025-03-19T15:22:12.839966Z",
     "shell.execute_reply": "2025-03-19T15:22:12.839030Z",
     "shell.execute_reply.started": "2025-03-19T15:22:07.891046Z"
    }
   },
   "outputs": [
    {
     "name": "stdout",
     "output_type": "stream",
     "text": [
      "(20880, 43200)\n"
     ]
    }
   ],
   "source": [
    "lsm = np.load(CHELSA_DIR + \"lsm.npy\")\n",
    "lsm = lsm.T.astype(bool)\n",
    "lsm[ys<-63] = False\n",
    "print(lsm.shape)"
   ]
  },
  {
   "cell_type": "code",
   "execution_count": 32,
   "id": "d1b298e5-65b2-4063-b04c-52e0eecdfa61",
   "metadata": {
    "execution": {
     "iopub.execute_input": "2025-03-19T15:23:00.219770Z",
     "iopub.status.busy": "2025-03-19T15:23:00.219158Z",
     "iopub.status.idle": "2025-03-19T15:23:09.859433Z",
     "shell.execute_reply": "2025-03-19T15:23:09.858590Z",
     "shell.execute_reply.started": "2025-03-19T15:23:00.219716Z"
    }
   },
   "outputs": [],
   "source": [
    "pcs = np.stack(np.where(lsm))"
   ]
  },
  {
   "cell_type": "code",
   "execution_count": 33,
   "id": "8f98f199-7e4a-428b-bb7d-c5c9e984790e",
   "metadata": {
    "execution": {
     "iopub.execute_input": "2025-03-19T15:23:09.861303Z",
     "iopub.status.busy": "2025-03-19T15:23:09.861106Z",
     "iopub.status.idle": "2025-03-19T15:23:09.865452Z",
     "shell.execute_reply": "2025-03-19T15:23:09.864761Z",
     "shell.execute_reply.started": "2025-03-19T15:23:09.861283Z"
    }
   },
   "outputs": [
    {
     "name": "stdout",
     "output_type": "stream",
     "text": [
      "(2, 222613755)\n",
      "[[   45    45    45    45    45]\n",
      " [17586 17587 17588 17589 17590]]\n"
     ]
    }
   ],
   "source": [
    "print(pcs.shape)\n",
    "print(pcs[:, :5])"
   ]
  },
  {
   "cell_type": "code",
   "execution_count": 34,
   "id": "e9cffd87-1bb0-4ff0-a29c-f458104acd2d",
   "metadata": {
    "execution": {
     "iopub.execute_input": "2025-03-19T15:23:09.866608Z",
     "iopub.status.busy": "2025-03-19T15:23:09.866429Z",
     "iopub.status.idle": "2025-03-19T15:23:34.762235Z",
     "shell.execute_reply": "2025-03-19T15:23:34.761566Z",
     "shell.execute_reply.started": "2025-03-19T15:23:09.866592Z"
    }
   },
   "outputs": [],
   "source": [
    "pcs = np.stack([ys[pcs[0]], xs[pcs[1]]]).T"
   ]
  },
  {
   "cell_type": "code",
   "execution_count": 35,
   "id": "06158239-8a1d-4414-8485-20aed47df113",
   "metadata": {
    "execution": {
     "iopub.execute_input": "2025-03-19T15:23:34.763847Z",
     "iopub.status.busy": "2025-03-19T15:23:34.763546Z",
     "iopub.status.idle": "2025-03-19T15:23:34.767228Z",
     "shell.execute_reply": "2025-03-19T15:23:34.766810Z",
     "shell.execute_reply.started": "2025-03-19T15:23:34.763830Z"
    }
   },
   "outputs": [
    {
     "name": "stdout",
     "output_type": "stream",
     "text": [
      "(222613755, 2)\n",
      "[[ 83.62069375 -33.44597281]\n",
      " [ 83.62069375 -33.43763948]\n",
      " [ 83.62069375 -33.42930614]\n",
      " ...\n",
      " [-62.99597233 -56.17097272]\n",
      " [-62.99597233 -56.16263938]\n",
      " [-62.99597233 -56.15430605]]\n"
     ]
    }
   ],
   "source": [
    "print(pcs.shape)\n",
    "print(pcs[:, :5])"
   ]
  },
  {
   "cell_type": "code",
   "execution_count": 36,
   "id": "36611db8-5b3a-4bef-8bcb-04328690c989",
   "metadata": {
    "execution": {
     "iopub.execute_input": "2025-03-19T15:23:34.768181Z",
     "iopub.status.busy": "2025-03-19T15:23:34.767891Z",
     "iopub.status.idle": "2025-03-19T15:23:37.157426Z",
     "shell.execute_reply": "2025-03-19T15:23:37.156772Z",
     "shell.execute_reply.started": "2025-03-19T15:23:34.768165Z"
    }
   },
   "outputs": [],
   "source": [
    "np.save(CHELSA_DIR + \"point_to_coord.npy\", pcs)"
   ]
  },
  {
   "cell_type": "code",
   "execution_count": null,
   "id": "76045198-189c-452a-a40e-53665b9bf17f",
   "metadata": {},
   "outputs": [],
   "source": []
  }
 ],
 "metadata": {
  "kernelspec": {
   "display_name": "glc23",
   "language": "python",
   "name": "glc23"
  },
  "language_info": {
   "codemirror_mode": {
    "name": "ipython",
    "version": 3
   },
   "file_extension": ".py",
   "mimetype": "text/x-python",
   "name": "python",
   "nbconvert_exporter": "python",
   "pygments_lexer": "ipython3",
   "version": "3.9.16"
  }
 },
 "nbformat": 4,
 "nbformat_minor": 5
}
