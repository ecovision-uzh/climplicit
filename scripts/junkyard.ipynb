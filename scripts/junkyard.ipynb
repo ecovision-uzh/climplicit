{
 "cells": [
  {
   "cell_type": "code",
   "execution_count": 3,
   "id": "e8e0b64a-280f-4659-82ce-504dfcc648c4",
   "metadata": {},
   "outputs": [
    {
     "data": {
      "image/png": "[encoded data removed]",
      "text/plain": [
       "<Figure size 640x480 with 1 Axes>"
      ]
     },
     "metadata": {},
     "output_type": "display_data"
    }
   ],
   "source": [
    "import matplotlib.pyplot as plt\n",
    "import numpy as np\n",
    "\n",
    "fig, ax = plt.subplots(1)\n",
    "\n",
    "sizes = [512, 1024, 1536, 2048, 3072, 4096]\n",
    "errors = [0.0129192229360342043,0.010522184893488884,0.010649462230503561,0.010237374342978,0.00947987753897905176,0.0113879935815930367]\n",
    "f1s_col = \"red\"\n",
    "ax.plot(sizes, errors, \"--o\", linewidth=1, color=f1s_col)\n",
    "ax.tick_params(axis='y', labelcolor=f1s_col)\n",
    "ax.set_xlabel('Location encoder hidden dim')\n",
    "ax.set_ylabel('Reconstruction Error')\n",
    "\n",
    "#plt.show()\n",
    "\n",
    "plt.savefig(\"temp\")"
   ]
  },
  {
   "cell_type": "code",
   "execution_count": 1,
   "id": "eace4e2d-4ee6-47e3-b525-1fec67b1d65e",
   "metadata": {},
   "outputs": [],
   "source": [
    "import geopandas as gpd\n",
    "import pandas as pd"
   ]
  },
  {
   "cell_type": "code",
   "execution_count": 2,
   "id": "4629a938-197c-458f-89a3-d445d8297c0f",
   "metadata": {},
   "outputs": [],
   "source": [
    "eco = gpd.read_file(\"/home/jdolli/chelsaCLIP/src/utils/test_cases/data/TerrestrialEcos/data/commondata/data0/wwf_terr_ecos.shp\")\n",
    "#eco = gpd.read_file(\"/home/jdolli/chelsaCLIP/src/utils/test_cases/data/Terrestrial_Ecoregions_of_the_World.zip\")"
   ]
  },
  {
   "cell_type": "code",
   "execution_count": 10,
   "id": "7bfc4c5b-6f3f-4b18-bfb6-ee6c0a94bd5b",
   "metadata": {},
   "outputs": [
    {
     "name": "stdout",
     "output_type": "stream",
     "text": [
      "(3, 2)\n"
     ]
    },
    {
     "data": {
      "text/html": [
       "<div>\n",
       "<style scoped>\n",
       "    .dataframe tbody tr th:only-of-type {\n",
       "        vertical-align: middle;\n",
       "    }\n",
       "\n",
       "    .dataframe tbody tr th {\n",
       "        vertical-align: top;\n",
       "    }\n",
       "\n",
       "    .dataframe thead th {\n",
       "        text-align: right;\n",
       "    }\n",
       "</style>\n",
       "<table border=\"1\" class=\"dataframe\">\n",
       "  <thead>\n",
       "    <tr style=\"text-align: right;\">\n",
       "      <th></th>\n",
       "      <th>LON</th>\n",
       "      <th>LAT</th>\n",
       "    </tr>\n",
       "  </thead>\n",
       "  <tbody>\n",
       "    <tr>\n",
       "      <th>0</th>\n",
       "      <td>1</td>\n",
       "      <td>3</td>\n",
       "    </tr>\n",
       "    <tr>\n",
       "      <th>1</th>\n",
       "      <td>2</td>\n",
       "      <td>4</td>\n",
       "    </tr>\n",
       "    <tr>\n",
       "      <th>2</th>\n",
       "      <td>3</td>\n",
       "      <td>5</td>\n",
       "    </tr>\n",
       "  </tbody>\n",
       "</table>\n",
       "</div>"
      ],
      "text/plain": [
       "   LON  LAT\n",
       "0    1    3\n",
       "1    2    4\n",
       "2    3    5"
      ]
     },
     "execution_count": 10,
     "metadata": {},
     "output_type": "execute_result"
    }
   ],
   "source": [
    "import numpy as np\n",
    "a = np.array([[1,2,3],[3,4,5]]).T\n",
    "print(a.shape)\n",
    "a = pd.DataFrame(a)\n",
    "a.columns =  ['LON', 'LAT']\n",
    "a"
   ]
  },
  {
   "cell_type": "code",
   "execution_count": 27,
   "id": "461bba21-212c-4bc8-9053-ee826df67ecb",
   "metadata": {},
   "outputs": [
    {
     "data": {
      "text/plain": [
       "tensor([[14., -8.,  5.,  8.],\n",
       "        [-8.,  6., -3., -6.],\n",
       "        [ 5., -3.,  9.,  3.],\n",
       "        [ 8., -6.,  3.,  6.]])"
      ]
     },
     "execution_count": 27,
     "metadata": {},
     "output_type": "execute_result"
    }
   ],
   "source": [
    "import torch\n",
    "a = torch.tensor([[1,2,3], [-1,-2,-1], [-2,2,1], [1,2,1]], dtype=torch.float)\n",
    "torch.mm(a,a.T)"
   ]
  },
  {
   "cell_type": "code",
   "execution_count": 6,
   "id": "e1fa567a-666e-40e1-9f80-1907449a6859",
   "metadata": {},
   "outputs": [
    {
     "name": "stdout",
     "output_type": "stream",
     "text": [
      "tensor(0.3247) tensor(0.1800)\n"
     ]
    }
   ],
   "source": [
    "import torch\n",
    "a = torch.tensor([0.1614, 0.5177, 0.2951])\n",
    "print(a.mean(), a.std())"
   ]
  },
  {
   "cell_type": "code",
   "execution_count": 15,
   "id": "828e42a5-d3c1-4aab-89cb-78374982f7bc",
   "metadata": {},
   "outputs": [
    {
     "data": {
      "text/plain": [
       "tensor([[1.0000],\n",
       "        [1.0000]])"
      ]
     },
     "execution_count": 15,
     "metadata": {},
     "output_type": "execute_result"
    }
   ],
   "source": [
    "import torch\n",
    "loc_month_emb = torch.tensor([[1,2,3],[4,5,2.0]])\n",
    "(loc_month_emb / loc_month_emb.norm(dim=1, keepdim=True))"
   ]
  },
  {
   "cell_type": "code",
   "execution_count": 30,
   "id": "a897d930-d053-4966-9087-ae041a47e276",
   "metadata": {},
   "outputs": [
    {
     "data": {
      "text/plain": [
       "tensor([[14.0000,  9.1652, 11.2250,  9.1652],\n",
       "        [ 9.1652,  6.0000,  7.3485,  6.0000],\n",
       "        [11.2250,  7.3485,  9.0000,  7.3485],\n",
       "        [ 9.1652,  6.0000,  7.3485,  6.0000]])"
      ]
     },
     "execution_count": 30,
     "metadata": {},
     "output_type": "execute_result"
    }
   ],
   "source": [
    "norm = torch.norm(a, dim=1).view(-1,1)\n",
    "torch.mm(norm, norm.T)"
   ]
  },
  {
   "cell_type": "code",
   "execution_count": 29,
   "id": "129dbded-7a7f-4dc7-b7ef-83e002896d77",
   "metadata": {},
   "outputs": [
    {
     "data": {
      "text/plain": [
       "tensor([[ 1.0000, -0.8729,  0.4454,  0.8729],\n",
       "        [-0.8729,  1.0000, -0.4082, -1.0000],\n",
       "        [ 0.4454, -0.4082,  1.0000,  0.4082],\n",
       "        [ 0.8729, -1.0000,  0.4082,  1.0000]])"
      ]
     },
     "execution_count": 29,
     "metadata": {},
     "output_type": "execute_result"
    }
   ],
   "source": [
    "torch.mm(a,a.T)/torch.mm(norm, norm.T)"
   ]
  },
  {
   "cell_type": "code",
   "execution_count": null,
   "id": "6fc0656b-f6c2-4fc4-90b5-74346eb2cbaa",
   "metadata": {},
   "outputs": [],
   "source": []
  },
  {
   "cell_type": "code",
   "execution_count": null,
   "id": "bdd778da-46a6-4901-b3a8-8d6ef3941595",
   "metadata": {},
   "outputs": [],
   "source": []
  },
  {
   "cell_type": "code",
   "execution_count": 1,
   "id": "ddb5e4ee-b88a-4b75-bcd5-45034bf81b38",
   "metadata": {},
   "outputs": [
    {
     "data": {
      "image/png": "[encoded data removed]",
      "text/plain": [
       "<Figure size 640x480 with 1 Axes>"
      ]
     },
     "metadata": {},
     "output_type": "display_data"
    }
   ],
   "source": [
    "import numpy as np\n",
    "from scipy.stats import arcsine\n",
    "import matplotlib.pyplot as plt\n",
    "\n"
   ]
  },
  {
   "cell_type": "code",
   "execution_count": 11,
   "id": "772f6c43-3d72-45ca-a62a-6ef81f9812f8",
   "metadata": {},
   "outputs": [
    {
     "data": {
      "image/png": "[encoded data removed]",
      "text/plain": [
       "<Figure size 640x480 with 1 Axes>"
      ]
     },
     "metadata": {},
     "output_type": "display_data"
    }
   ],
   "source": [
    "fig, ax = plt.subplots(1, 1)\n",
    "x = np.linspace(arcsine.ppf(0.01), arcsine.ppf(0.99), 100)\n",
    "x = np.linspace(-0.99, 0.99, 100)\n",
    "\n",
    "ax.plot(x, arcsine.pdf(x, -1, 2), 'r-', lw=5, alpha=0.6, label='arcsine pdf')\n",
    "#ax.plot(x, x, 'r-', lw=5, alpha=0.6, label='arcsine pdf')\n",
    "plt.show()"
   ]
  },
  {
   "cell_type": "code",
   "execution_count": 14,
   "id": "e4a0ed9c-3ccf-46bb-aa7f-d7b822dd76c0",
   "metadata": {},
   "outputs": [
    {
     "data": {
      "text/plain": [
       "2.256438956840317"
      ]
     },
     "execution_count": 14,
     "metadata": {},
     "output_type": "execute_result"
    }
   ],
   "source": [
    "arcsine.pdf(-0.99, -1, 2)"
   ]
  },
  {
   "cell_type": "code",
   "execution_count": 16,
   "id": "1ae3f876-dc0d-42ce-ab4a-78b60537695e",
   "metadata": {},
   "outputs": [],
   "source": [
    "r1 = arcsine.rvs(size=1000)\n",
    "r2 = arcsine.rvs(size=1000)"
   ]
  },
  {
   "cell_type": "code",
   "execution_count": 21,
   "id": "84159772-6e78-4677-9aeb-c0c7a621d326",
   "metadata": {},
   "outputs": [
    {
     "data": {
      "image/png": "[encoded data removed]",
      "text/plain": [
       "<Figure size 640x480 with 1 Axes>"
      ]
     },
     "metadata": {},
     "output_type": "display_data"
    }
   ],
   "source": [
    "fig, ax = plt.subplots(1, 1)\n",
    "ax.hist([r1[i]+r2[i] for i in range(len(r1))], density=True, bins='auto', histtype='stepfilled', alpha=0.2)\n",
    "ax.set_xlim(-2, 3)\n",
    "plt.show()"
   ]
  },
  {
   "cell_type": "code",
   "execution_count": 13,
   "id": "c4a38538-c499-48cb-9201-29e28ea35b95",
   "metadata": {},
   "outputs": [
    {
     "name": "stderr",
     "output_type": "stream",
     "text": [
      "100%|██████████| 2/2 [00:00<00:00, 962.00it/s]"
     ]
    },
    {
     "name": "stdout",
     "output_type": "stream",
     "text": [
      "         LON        LAT\n",
      "0 -58.304306  52.079027\n",
      "1 -42.529306  61.770694\n"
     ]
    },
    {
     "name": "stderr",
     "output_type": "stream",
     "text": [
      "\n"
     ]
    }
   ],
   "source": [
    "eco = gpd.read_file(\"/home/jdolli/chelsaCLIP/src/utils/test_cases/data/TerrestrialEcos/data/commondata/data0/wwf_terr_ecos.shp\")\n",
    "\n",
    "\n",
    "# Create point sample\n",
    "#pts = pd.read_csv(\".../random_points.csv\",  header=None)\n",
    "import rioxarray\n",
    "from tqdm import tqdm\n",
    "import numpy as np\n",
    "from global_land_mask import globe\n",
    "ras = rioxarray.open_rasterio('/shares/wegner.ics.uzh/CHELSA/climatologies/1981-2010/cmi/CHELSA_cmi_01_1981-2010_V.2.1.tif', cache=False)\n",
    "\n",
    "lsm = np.array(ras)[0]<30000\n",
    "land = np.where(lsm)\n",
    "land = np.transpose(np.stack(land))\n",
    "\n",
    "SAMPLES = 2\n",
    "sample = np.random.choice(len(land), SAMPLES)\n",
    "sample = land[sample]\n",
    "\n",
    "data = np.zeros((len(sample), 2), dtype=\"float\")\n",
    "for i in tqdm(range(len(sample))):\n",
    "    y, x = sample[i]\n",
    "    loc = ras[0, y, x]\n",
    "    data[i][0] = loc[\"x\"] # Saving as lon/lat\n",
    "    data[i][1] = loc[\"y\"]\n",
    "    if not globe.is_land(data[i][1], data[i][0]):\n",
    "        print(str(data[i][0]) + \"/\" + str(data[i][1]))\n",
    "\n",
    "pts = pd.DataFrame(data)\n",
    "\n",
    "# Rename the columns of the CSV for clarity\n",
    "pts.columns = ['LON', 'LAT']\n",
    "print(pts)"
   ]
  },
  {
   "cell_type": "code",
   "execution_count": 24,
   "id": "3322eb13-a0f1-4554-994e-5b227f8c471c",
   "metadata": {},
   "outputs": [
    {
     "name": "stdout",
     "output_type": "stream",
     "text": [
      "         LON        LAT                    geometry\n",
      "0 -58.304306  52.079027  POINT (-58.30431 52.07903)\n",
      "1 -42.529306  61.770694  POINT (-42.52931 61.77069)\n",
      "EPSG:4326 EPSG:3857\n",
      "EPSG:3857 EPSG:3857\n",
      "         LON        LAT                            ECO_NAME  BIOME  ECO_NUM  \\\n",
      "0 -58.304306  52.079027       Eastern Canadian Shield taiga    6.0      6.0   \n",
      "1 -42.529306  61.770694  Kalaallit Nunaat low arctic tundra   11.0     13.0   \n",
      "\n",
      "    ECO_ID  \n",
      "0  50606.0  \n",
      "1  51113.0  \n"
     ]
    }
   ],
   "source": [
    "pts.columns = ['LON', 'LAT']\n",
    "# Convert the points to a GeoDataFrame\n",
    "pts_gdf = gpd.GeoDataFrame(pts, geometry=gpd.points_from_xy(pts['LON'], pts['LAT'], crs=\"EPSG:4326\"))\n",
    "print(pts_gdf)\n",
    "# Ensure both GeoDataFrames have the same CRS\n",
    "print(pts_gdf.crs, eco.crs)\n",
    "pts_gdf.to_crs(eco.crs, inplace=True)\n",
    "print(pts_gdf.crs, eco.crs)\n",
    "# Perform spatial join to extract information\n",
    "ep_all = gpd.sjoin(pts_gdf, eco, how='left')\n",
    "# Select the desired columns\n",
    "ep = ep_all[['LON', 'LAT', 'ECO_NAME', 'BIOME', 'ECO_NUM', 'ECO_ID']]\n",
    "print(ep)"
   ]
  },
  {
   "cell_type": "code",
   "execution_count": 37,
   "id": "e2721fb3-612f-4480-8ec8-fa04d65d598c",
   "metadata": {},
   "outputs": [
    {
     "data": {
      "text/html": [
       "<div>\n",
       "<style scoped>\n",
       "    .dataframe tbody tr th:only-of-type {\n",
       "        vertical-align: middle;\n",
       "    }\n",
       "\n",
       "    .dataframe tbody tr th {\n",
       "        vertical-align: top;\n",
       "    }\n",
       "\n",
       "    .dataframe thead th {\n",
       "        text-align: right;\n",
       "    }\n",
       "</style>\n",
       "<table border=\"1\" class=\"dataframe\">\n",
       "  <thead>\n",
       "    <tr style=\"text-align: right;\">\n",
       "      <th></th>\n",
       "      <th>Unnamed: 0</th>\n",
       "      <th>LON</th>\n",
       "      <th>LAT</th>\n",
       "      <th>ECO_NAME</th>\n",
       "      <th>BIOME</th>\n",
       "      <th>ECO_NUM</th>\n",
       "      <th>ECO_ID</th>\n",
       "    </tr>\n",
       "  </thead>\n",
       "  <tbody>\n",
       "    <tr>\n",
       "      <th>0</th>\n",
       "      <td>0</td>\n",
       "      <td>-7.970973</td>\n",
       "      <td>71.045694</td>\n",
       "      <td>NaN</td>\n",
       "      <td>NaN</td>\n",
       "      <td>NaN</td>\n",
       "      <td>NaN</td>\n",
       "    </tr>\n",
       "    <tr>\n",
       "      <th>1</th>\n",
       "      <td>1</td>\n",
       "      <td>27.120694</td>\n",
       "      <td>48.337361</td>\n",
       "      <td>Central European mixed forests</td>\n",
       "      <td>4.0</td>\n",
       "      <td>12.0</td>\n",
       "      <td>80412.0</td>\n",
       "    </tr>\n",
       "    <tr>\n",
       "      <th>2</th>\n",
       "      <td>2</td>\n",
       "      <td>-61.145973</td>\n",
       "      <td>-29.970972</td>\n",
       "      <td>Espinal</td>\n",
       "      <td>8.0</td>\n",
       "      <td>1.0</td>\n",
       "      <td>60801.0</td>\n",
       "    </tr>\n",
       "    <tr>\n",
       "      <th>3</th>\n",
       "      <td>3</td>\n",
       "      <td>10.662360</td>\n",
       "      <td>16.995694</td>\n",
       "      <td>South Saharan steppe and woodlands</td>\n",
       "      <td>13.0</td>\n",
       "      <td>29.0</td>\n",
       "      <td>81329.0</td>\n",
       "    </tr>\n",
       "    <tr>\n",
       "      <th>4</th>\n",
       "      <td>4</td>\n",
       "      <td>99.620693</td>\n",
       "      <td>60.895694</td>\n",
       "      <td>East Siberian taiga</td>\n",
       "      <td>6.0</td>\n",
       "      <td>1.0</td>\n",
       "      <td>80601.0</td>\n",
       "    </tr>\n",
       "  </tbody>\n",
       "</table>\n",
       "</div>"
      ],
      "text/plain": [
       "   Unnamed: 0        LON        LAT                            ECO_NAME  \\\n",
       "0           0  -7.970973  71.045694                                 NaN   \n",
       "1           1  27.120694  48.337361      Central European mixed forests   \n",
       "2           2 -61.145973 -29.970972                             Espinal   \n",
       "3           3  10.662360  16.995694  South Saharan steppe and woodlands   \n",
       "4           4  99.620693  60.895694                 East Siberian taiga   \n",
       "\n",
       "   BIOME  ECO_NUM   ECO_ID  \n",
       "0    NaN      NaN      NaN  \n",
       "1    4.0     12.0  80412.0  \n",
       "2    8.0      1.0  60801.0  \n",
       "3   13.0     29.0  81329.0  \n",
       "4    6.0      1.0  80601.0  "
      ]
     },
     "execution_count": 37,
     "metadata": {},
     "output_type": "execute_result"
    }
   ],
   "source": [
    "pts = pd.read_csv('/home/jdolli/chelsaCLIP/src/utils/test_cases/data/ecobiomes_1000000.csv')\n",
    "pts.head()"
   ]
  },
  {
   "cell_type": "code",
   "execution_count": 55,
   "id": "527dbcd6-beb0-4e83-babe-2231a46759fd",
   "metadata": {},
   "outputs": [
    {
     "name": "stderr",
     "output_type": "stream",
     "text": [
      "/sctmp/jdolli/ipykernel_3693423/1019438852.py:1: SettingWithCopyWarning: \n",
      "A value is trying to be set on a copy of a slice from a DataFrame\n",
      "\n",
      "See the caveats in the documentation: https://pandas.pydata.org/pandas-docs/stable/user_guide/indexing.html#returning-a-view-versus-a-copy\n",
      "  pts[\"ECO_ID\"][pts[\"ECO_ID\"] == -9999] = 0\n"
     ]
    }
   ],
   "source": [
    "pts[\"ECO_ID\"][pts[\"ECO_ID\"] == -9999] = 0"
   ]
  },
  {
   "cell_type": "code",
   "execution_count": 43,
   "id": "e4eca470-71ca-4e2e-a932-0d1b535a5e5c",
   "metadata": {},
   "outputs": [
    {
     "data": {
      "text/html": [
       "<div>\n",
       "<style scoped>\n",
       "    .dataframe tbody tr th:only-of-type {\n",
       "        vertical-align: middle;\n",
       "    }\n",
       "\n",
       "    .dataframe tbody tr th {\n",
       "        vertical-align: top;\n",
       "    }\n",
       "\n",
       "    .dataframe thead th {\n",
       "        text-align: right;\n",
       "    }\n",
       "</style>\n",
       "<table border=\"1\" class=\"dataframe\">\n",
       "  <thead>\n",
       "    <tr style=\"text-align: right;\">\n",
       "      <th></th>\n",
       "      <th>Unnamed: 0</th>\n",
       "      <th>LON</th>\n",
       "      <th>LAT</th>\n",
       "      <th>ECO_NAME</th>\n",
       "      <th>BIOME</th>\n",
       "      <th>ECO_NUM</th>\n",
       "      <th>ECO_ID</th>\n",
       "    </tr>\n",
       "  </thead>\n",
       "  <tbody>\n",
       "    <tr>\n",
       "      <th>1</th>\n",
       "      <td>1</td>\n",
       "      <td>27.120694</td>\n",
       "      <td>48.337361</td>\n",
       "      <td>Central European mixed forests</td>\n",
       "      <td>4.0</td>\n",
       "      <td>12.0</td>\n",
       "      <td>80412.0</td>\n",
       "    </tr>\n",
       "    <tr>\n",
       "      <th>2</th>\n",
       "      <td>2</td>\n",
       "      <td>-61.145973</td>\n",
       "      <td>-29.970972</td>\n",
       "      <td>Espinal</td>\n",
       "      <td>8.0</td>\n",
       "      <td>1.0</td>\n",
       "      <td>60801.0</td>\n",
       "    </tr>\n",
       "    <tr>\n",
       "      <th>3</th>\n",
       "      <td>3</td>\n",
       "      <td>10.662360</td>\n",
       "      <td>16.995694</td>\n",
       "      <td>South Saharan steppe and woodlands</td>\n",
       "      <td>13.0</td>\n",
       "      <td>29.0</td>\n",
       "      <td>81329.0</td>\n",
       "    </tr>\n",
       "    <tr>\n",
       "      <th>4</th>\n",
       "      <td>4</td>\n",
       "      <td>99.620693</td>\n",
       "      <td>60.895694</td>\n",
       "      <td>East Siberian taiga</td>\n",
       "      <td>6.0</td>\n",
       "      <td>1.0</td>\n",
       "      <td>80601.0</td>\n",
       "    </tr>\n",
       "    <tr>\n",
       "      <th>5</th>\n",
       "      <td>5</td>\n",
       "      <td>-155.354306</td>\n",
       "      <td>60.354027</td>\n",
       "      <td>Interior Alaska-Yukon lowland taiga</td>\n",
       "      <td>6.0</td>\n",
       "      <td>7.0</td>\n",
       "      <td>50607.0</td>\n",
       "    </tr>\n",
       "    <tr>\n",
       "      <th>...</th>\n",
       "      <td>...</td>\n",
       "      <td>...</td>\n",
       "      <td>...</td>\n",
       "      <td>...</td>\n",
       "      <td>...</td>\n",
       "      <td>...</td>\n",
       "      <td>...</td>\n",
       "    </tr>\n",
       "    <tr>\n",
       "      <th>999995</th>\n",
       "      <td>999995</td>\n",
       "      <td>-92.795973</td>\n",
       "      <td>33.570694</td>\n",
       "      <td>Piney Woods forests</td>\n",
       "      <td>5.0</td>\n",
       "      <td>23.0</td>\n",
       "      <td>50523.0</td>\n",
       "    </tr>\n",
       "    <tr>\n",
       "      <th>999996</th>\n",
       "      <td>999996</td>\n",
       "      <td>35.337360</td>\n",
       "      <td>57.179027</td>\n",
       "      <td>Scandinavian and Russian taiga</td>\n",
       "      <td>6.0</td>\n",
       "      <td>8.0</td>\n",
       "      <td>80608.0</td>\n",
       "    </tr>\n",
       "    <tr>\n",
       "      <th>999997</th>\n",
       "      <td>999997</td>\n",
       "      <td>134.545693</td>\n",
       "      <td>61.870694</td>\n",
       "      <td>East Siberian taiga</td>\n",
       "      <td>6.0</td>\n",
       "      <td>1.0</td>\n",
       "      <td>80601.0</td>\n",
       "    </tr>\n",
       "    <tr>\n",
       "      <th>999998</th>\n",
       "      <td>999998</td>\n",
       "      <td>-67.387639</td>\n",
       "      <td>55.687361</td>\n",
       "      <td>Eastern Canadian Shield taiga</td>\n",
       "      <td>6.0</td>\n",
       "      <td>6.0</td>\n",
       "      <td>50606.0</td>\n",
       "    </tr>\n",
       "    <tr>\n",
       "      <th>999999</th>\n",
       "      <td>999999</td>\n",
       "      <td>71.854027</td>\n",
       "      <td>51.862361</td>\n",
       "      <td>Kazakh steppe</td>\n",
       "      <td>8.0</td>\n",
       "      <td>10.0</td>\n",
       "      <td>80810.0</td>\n",
       "    </tr>\n",
       "  </tbody>\n",
       "</table>\n",
       "<p>981332 rows × 7 columns</p>\n",
       "</div>"
      ],
      "text/plain": [
       "        Unnamed: 0         LON        LAT  \\\n",
       "1                1   27.120694  48.337361   \n",
       "2                2  -61.145973 -29.970972   \n",
       "3                3   10.662360  16.995694   \n",
       "4                4   99.620693  60.895694   \n",
       "5                5 -155.354306  60.354027   \n",
       "...            ...         ...        ...   \n",
       "999995      999995  -92.795973  33.570694   \n",
       "999996      999996   35.337360  57.179027   \n",
       "999997      999997  134.545693  61.870694   \n",
       "999998      999998  -67.387639  55.687361   \n",
       "999999      999999   71.854027  51.862361   \n",
       "\n",
       "                                   ECO_NAME  BIOME  ECO_NUM   ECO_ID  \n",
       "1            Central European mixed forests    4.0     12.0  80412.0  \n",
       "2                                   Espinal    8.0      1.0  60801.0  \n",
       "3        South Saharan steppe and woodlands   13.0     29.0  81329.0  \n",
       "4                       East Siberian taiga    6.0      1.0  80601.0  \n",
       "5       Interior Alaska-Yukon lowland taiga    6.0      7.0  50607.0  \n",
       "...                                     ...    ...      ...      ...  \n",
       "999995                  Piney Woods forests    5.0     23.0  50523.0  \n",
       "999996       Scandinavian and Russian taiga    6.0      8.0  80608.0  \n",
       "999997                  East Siberian taiga    6.0      1.0  80601.0  \n",
       "999998        Eastern Canadian Shield taiga    6.0      6.0  50606.0  \n",
       "999999                        Kazakh steppe    8.0     10.0  80810.0  \n",
       "\n",
       "[981332 rows x 7 columns]"
      ]
     },
     "execution_count": 43,
     "metadata": {},
     "output_type": "execute_result"
    }
   ],
   "source": [
    "pts.dropna()"
   ]
  },
  {
   "cell_type": "code",
   "execution_count": 1,
   "id": "449dfa57-a546-4ad0-abab-dbf598a20098",
   "metadata": {
    "execution": {
     "iopub.execute_input": "2024-11-11T19:25:28.069009Z",
     "iopub.status.busy": "2024-11-11T19:25:28.067832Z",
     "iopub.status.idle": "2024-11-11T19:25:40.714131Z",
     "shell.execute_reply": "2024-11-11T19:25:40.713476Z",
     "shell.execute_reply.started": "2024-11-11T19:25:28.068954Z"
    }
   },
   "outputs": [],
   "source": [
    "# Test if Chelsaclip outputs are actually deterministic\n",
    "import torch\n",
    "import sys\n",
    "sys.path.append('/home/jdolli/chelsaCLIP')\n",
    "from src.models.components.loc_encoder import SirenNet\n",
    "from src.utils.positional_encoding.spheregrid import SphereGridSpatialRelationEncoder"
   ]
  },
  {
   "cell_type": "code",
   "execution_count": 2,
   "id": "1e82cb83-f284-47ed-9eb0-3d04466d4cf0",
   "metadata": {
    "execution": {
     "iopub.execute_input": "2024-11-11T19:25:40.715970Z",
     "iopub.status.busy": "2024-11-11T19:25:40.715458Z",
     "iopub.status.idle": "2024-11-11T19:25:54.339230Z",
     "shell.execute_reply": "2024-11-11T19:25:54.338352Z",
     "shell.execute_reply.started": "2024-11-11T19:25:40.715938Z"
    }
   },
   "outputs": [],
   "source": [
    "PATH = \"/shares/wegner.ics.uzh/CHELSA/checkpoints/epoch_098-v5.ckpt\" #naive tiny\n",
    "state_dict = torch.load(PATH, weights_only=False)\n",
    "location_encoder = SirenNet(dim_in=386, dim_hidden=512, dim_out=256, num_layers=2, dropout=False)\n",
    "loc_enc_sd = {key[17:]:state_dict[\"state_dict\"][key] for key in state_dict[\"state_dict\"].keys() if key.startswith(\"location_encoder\")}\n",
    "location_encoder.load_state_dict(loc_enc_sd)\n",
    "location_encoder.eval()\n",
    "location_encoder = location_encoder\n",
    "pos_embedding = SphereGridSpatialRelationEncoder(coord_dim=2, frequency_num=64, max_radius=360, min_radius=0.0003,\n",
    "        freq_init=\"geometric\", device=\"cpu\")\n",
    "#feats = get_feats(loc_ip, date_ip, months, location_encoder, pos_embedding, use_months=True, pass_months_to_forward=False)"
   ]
  },
  {
   "cell_type": "code",
   "execution_count": 13,
   "id": "e124cc7c-c4c4-4033-a196-2d347ff15d3d",
   "metadata": {
    "execution": {
     "iopub.execute_input": "2024-11-11T19:31:03.872162Z",
     "iopub.status.busy": "2024-11-11T19:31:03.870606Z",
     "iopub.status.idle": "2024-11-11T19:31:03.885346Z",
     "shell.execute_reply": "2024-11-11T19:31:03.884822Z",
     "shell.execute_reply.started": "2024-11-11T19:31:03.872075Z"
    }
   },
   "outputs": [],
   "source": [
    "loc = torch.Tensor([[8.0,47.0], [9.0,47.0]])\n",
    "month = torch.Tensor([4.0,4.0])\n",
    "loc = pos_embedding(loc.double()).squeeze(dim=1)\n",
    "loc_month = torch.concat([loc, torch.sin(month/12*torch.pi*2).unsqueeze(dim=-1),torch.cos(month/12*torch.pi*2).unsqueeze(dim=-1)], dim=-1)\n",
    "feats2 = location_encoder(loc_month).float().detach().cpu()"
   ]
  },
  {
   "cell_type": "code",
   "execution_count": 14,
   "id": "799732dd-dfc4-42ae-b68c-a993ad8382b2",
   "metadata": {
    "execution": {
     "iopub.execute_input": "2024-11-11T19:31:10.058395Z",
     "iopub.status.busy": "2024-11-11T19:31:10.057646Z",
     "iopub.status.idle": "2024-11-11T19:31:10.070985Z",
     "shell.execute_reply": "2024-11-11T19:31:10.070464Z",
     "shell.execute_reply.started": "2024-11-11T19:31:10.058361Z"
    }
   },
   "outputs": [
    {
     "data": {
      "text/plain": [
       "tensor([[-2.2065e+00,  2.8898e+00,  2.0945e-01, -1.7803e+00,  8.6297e-02,\n",
       "          3.9128e+00,  1.7134e+00,  2.6472e+00, -6.0497e-01, -2.4132e+00,\n",
       "          8.0964e+00,  2.6049e+00,  3.1618e+00, -5.4664e-01,  2.8112e-03,\n",
       "         -1.3558e+00,  1.8897e+00,  1.8305e+00, -2.8903e+00,  2.5494e+00,\n",
       "          9.6945e-01, -7.8608e+00,  2.1604e+00, -3.0159e-01, -6.6333e+00,\n",
       "         -4.7607e-01,  9.5716e-01,  1.7194e+00, -1.4533e+00,  1.5701e+00,\n",
       "          1.8251e+00, -2.0589e+00,  4.2440e-01, -1.8755e+00, -6.8799e-01,\n",
       "         -7.2993e-01,  2.4427e+00,  1.2284e+00, -1.6795e-01,  1.5034e+00,\n",
       "          8.9880e-01,  8.9077e-01, -3.5662e+00, -2.3181e-01, -2.3182e+00,\n",
       "         -2.5620e-01, -3.2101e+00,  6.5069e+00, -5.3905e-01,  3.1758e+00,\n",
       "          4.3355e+00,  6.9662e-01,  2.2319e+00, -1.7706e+00, -9.1601e-02,\n",
       "         -7.2454e-01, -1.0861e+00,  7.4999e-01, -2.1344e+00, -1.9404e+00,\n",
       "          7.2956e-02,  1.4118e+00,  5.8094e-01,  7.7212e-01,  4.2717e+00,\n",
       "         -2.3055e+00, -9.5569e-01,  1.8772e+00, -3.1155e+00,  1.0341e+00,\n",
       "          1.8746e+00,  2.2144e+00, -2.8047e+00, -5.7979e-01, -3.2595e+00,\n",
       "         -1.3473e+00,  1.7689e+00,  1.9967e+00, -3.4239e+00, -1.6954e+00,\n",
       "          2.8417e+00,  2.7279e-01, -8.8054e-01, -2.6887e+00, -3.7011e+00,\n",
       "         -1.1471e+00,  1.0891e+00, -3.8714e+00, -4.3970e+00, -1.8814e+00,\n",
       "          1.5949e-01,  7.8659e-01, -4.3542e+00,  1.8342e+00, -3.9768e+00,\n",
       "          2.5524e+00,  6.0966e-01,  2.3919e-02, -1.6196e+00,  8.8059e-01,\n",
       "          3.6879e-01,  2.2713e+00,  2.7896e+00, -9.8116e-01, -2.0456e+00,\n",
       "         -1.6527e+00, -2.0898e-03,  2.9307e+00,  2.9390e+00, -2.1450e+00,\n",
       "          2.2126e+00,  2.0498e-01,  3.8679e+00,  1.8395e+00,  1.0393e+00,\n",
       "          4.9724e+00, -5.8917e+00, -5.9183e-01,  1.2934e+00,  5.1825e-01,\n",
       "          1.1055e+00,  4.9994e-02, -2.9611e+00,  9.9237e-01,  1.6579e+00,\n",
       "          2.6985e+00,  1.4568e+00, -2.4319e+00,  1.5748e+00,  4.1708e+00,\n",
       "          3.3770e+00,  1.2553e+00,  1.4585e+00,  1.8061e+00,  3.9993e-01,\n",
       "          3.1995e-01, -4.7360e-01,  2.8038e+00,  1.8659e+00, -1.2318e-01,\n",
       "          1.0859e+00, -2.6494e+00,  1.2905e-02, -2.6138e+00,  3.6030e+00,\n",
       "         -1.0331e+00, -2.4201e-01, -1.6129e+00,  2.4833e+00, -1.2724e+00,\n",
       "          1.8064e+00, -2.8051e-01,  2.3392e+00, -9.6835e-01, -1.4117e+00,\n",
       "          1.9977e-01, -1.7157e+00, -1.5162e+00,  7.5291e-02, -3.8110e-02,\n",
       "         -6.8432e-01,  1.1783e+00,  6.9509e-01,  2.0788e+00, -1.1440e+00,\n",
       "          2.8346e+00,  1.9098e+00,  8.6934e-02, -3.5679e+00,  1.5045e+00,\n",
       "          2.3640e-01, -4.4796e+00, -1.0470e+00,  9.8600e-01,  3.1151e+00,\n",
       "         -9.3958e-01,  4.7340e+00, -4.1471e+00,  5.0056e+00,  3.9511e+00,\n",
       "         -1.7641e+00,  1.3787e+00, -2.5867e+00, -2.5293e+00, -1.2705e+00,\n",
       "         -4.3335e+00,  8.9319e-02,  9.7297e-01,  3.2395e+00, -7.1395e-01,\n",
       "          1.5741e+00, -2.3774e+00, -8.6678e-01,  3.7318e+00, -1.6401e+00,\n",
       "          2.5560e+00,  2.8676e+00, -6.5591e-01,  1.2658e+00, -4.8239e+00,\n",
       "         -2.5762e+00,  1.3199e+00,  9.2207e-01, -4.4864e-01,  1.2029e+00,\n",
       "          9.1799e-01, -1.4907e+00, -2.2490e-02,  8.1159e-01, -5.4458e+00,\n",
       "          2.3934e+00, -1.0321e+00,  2.5261e+00, -2.1013e+00, -4.4773e-01,\n",
       "          1.0079e-01, -9.5777e-01,  4.7315e-03, -2.7696e+00,  5.1513e-01,\n",
       "         -1.2548e+00, -1.6071e+00,  1.6706e+00,  2.4818e+00, -5.5090e-01,\n",
       "          1.3416e+00,  7.1783e-01, -3.3277e+00,  2.2646e-01,  5.5977e-01,\n",
       "          7.3111e-01, -1.6166e+00, -5.5459e+00, -4.0787e+00, -8.4295e-01,\n",
       "          7.4851e-01, -4.9638e-01, -5.5020e+00, -1.5267e+00, -2.0872e+00,\n",
       "          1.5433e+00, -4.3465e-02, -1.3803e+00,  7.9320e+00,  3.4829e-01,\n",
       "         -1.1951e+00, -4.2619e+00, -1.6089e+00, -5.1214e+00,  2.3536e+00,\n",
       "          1.0908e+00, -2.7518e+00, -2.0425e+00,  1.5692e-01, -4.2813e+00,\n",
       "          1.9945e+00],\n",
       "        [-2.2065e+00,  2.8898e+00,  2.0945e-01, -1.7803e+00,  8.6297e-02,\n",
       "          3.9128e+00,  1.7134e+00,  2.6472e+00, -6.0497e-01, -2.4132e+00,\n",
       "          8.0964e+00,  2.6049e+00,  3.1618e+00, -5.4664e-01,  2.8112e-03,\n",
       "         -1.3558e+00,  1.8897e+00,  1.8305e+00, -2.8903e+00,  2.5494e+00,\n",
       "          9.6945e-01, -7.8608e+00,  2.1604e+00, -3.0159e-01, -6.6333e+00,\n",
       "         -4.7607e-01,  9.5716e-01,  1.7194e+00, -1.4533e+00,  1.5701e+00,\n",
       "          1.8251e+00, -2.0589e+00,  4.2440e-01, -1.8755e+00, -6.8799e-01,\n",
       "         -7.2993e-01,  2.4427e+00,  1.2284e+00, -1.6795e-01,  1.5034e+00,\n",
       "          8.9880e-01,  8.9077e-01, -3.5662e+00, -2.3181e-01, -2.3182e+00,\n",
       "         -2.5620e-01, -3.2101e+00,  6.5069e+00, -5.3905e-01,  3.1758e+00,\n",
       "          4.3355e+00,  6.9662e-01,  2.2319e+00, -1.7706e+00, -9.1601e-02,\n",
       "         -7.2454e-01, -1.0861e+00,  7.4999e-01, -2.1344e+00, -1.9404e+00,\n",
       "          7.2956e-02,  1.4118e+00,  5.8094e-01,  7.7212e-01,  4.2717e+00,\n",
       "         -2.3055e+00, -9.5569e-01,  1.8772e+00, -3.1155e+00,  1.0341e+00,\n",
       "          1.8746e+00,  2.2144e+00, -2.8047e+00, -5.7979e-01, -3.2595e+00,\n",
       "         -1.3473e+00,  1.7689e+00,  1.9967e+00, -3.4239e+00, -1.6954e+00,\n",
       "          2.8417e+00,  2.7279e-01, -8.8054e-01, -2.6887e+00, -3.7011e+00,\n",
       "         -1.1471e+00,  1.0891e+00, -3.8714e+00, -4.3970e+00, -1.8814e+00,\n",
       "          1.5949e-01,  7.8659e-01, -4.3542e+00,  1.8342e+00, -3.9768e+00,\n",
       "          2.5524e+00,  6.0966e-01,  2.3919e-02, -1.6196e+00,  8.8059e-01,\n",
       "          3.6879e-01,  2.2713e+00,  2.7896e+00, -9.8116e-01, -2.0456e+00,\n",
       "         -1.6527e+00, -2.0898e-03,  2.9307e+00,  2.9390e+00, -2.1450e+00,\n",
       "          2.2126e+00,  2.0498e-01,  3.8679e+00,  1.8395e+00,  1.0393e+00,\n",
       "          4.9724e+00, -5.8917e+00, -5.9183e-01,  1.2934e+00,  5.1825e-01,\n",
       "          1.1055e+00,  4.9994e-02, -2.9611e+00,  9.9237e-01,  1.6579e+00,\n",
       "          2.6985e+00,  1.4568e+00, -2.4319e+00,  1.5748e+00,  4.1708e+00,\n",
       "          3.3770e+00,  1.2553e+00,  1.4585e+00,  1.8061e+00,  3.9993e-01,\n",
       "          3.1995e-01, -4.7360e-01,  2.8038e+00,  1.8659e+00, -1.2318e-01,\n",
       "          1.0859e+00, -2.6494e+00,  1.2905e-02, -2.6138e+00,  3.6030e+00,\n",
       "         -1.0331e+00, -2.4201e-01, -1.6129e+00,  2.4833e+00, -1.2724e+00,\n",
       "          1.8064e+00, -2.8051e-01,  2.3392e+00, -9.6835e-01, -1.4117e+00,\n",
       "          1.9977e-01, -1.7157e+00, -1.5162e+00,  7.5291e-02, -3.8110e-02,\n",
       "         -6.8432e-01,  1.1783e+00,  6.9509e-01,  2.0788e+00, -1.1440e+00,\n",
       "          2.8346e+00,  1.9098e+00,  8.6934e-02, -3.5679e+00,  1.5045e+00,\n",
       "          2.3640e-01, -4.4796e+00, -1.0470e+00,  9.8600e-01,  3.1151e+00,\n",
       "         -9.3958e-01,  4.7340e+00, -4.1471e+00,  5.0056e+00,  3.9511e+00,\n",
       "         -1.7641e+00,  1.3787e+00, -2.5867e+00, -2.5293e+00, -1.2705e+00,\n",
       "         -4.3335e+00,  8.9319e-02,  9.7297e-01,  3.2395e+00, -7.1395e-01,\n",
       "          1.5741e+00, -2.3774e+00, -8.6678e-01,  3.7318e+00, -1.6401e+00,\n",
       "          2.5560e+00,  2.8676e+00, -6.5591e-01,  1.2658e+00, -4.8239e+00,\n",
       "         -2.5762e+00,  1.3199e+00,  9.2207e-01, -4.4864e-01,  1.2029e+00,\n",
       "          9.1799e-01, -1.4907e+00, -2.2490e-02,  8.1159e-01, -5.4458e+00,\n",
       "          2.3934e+00, -1.0321e+00,  2.5261e+00, -2.1013e+00, -4.4773e-01,\n",
       "          1.0079e-01, -9.5777e-01,  4.7315e-03, -2.7696e+00,  5.1513e-01,\n",
       "         -1.2548e+00, -1.6071e+00,  1.6706e+00,  2.4818e+00, -5.5090e-01,\n",
       "          1.3416e+00,  7.1783e-01, -3.3277e+00,  2.2646e-01,  5.5977e-01,\n",
       "          7.3111e-01, -1.6166e+00, -5.5459e+00, -4.0787e+00, -8.4295e-01,\n",
       "          7.4851e-01, -4.9638e-01, -5.5020e+00, -1.5267e+00, -2.0872e+00,\n",
       "          1.5433e+00, -4.3465e-02, -1.3803e+00,  7.9320e+00,  3.4829e-01,\n",
       "         -1.1951e+00, -4.2619e+00, -1.6089e+00, -5.1214e+00,  2.3536e+00,\n",
       "          1.0908e+00, -2.7518e+00, -2.0425e+00,  1.5692e-01, -4.2813e+00,\n",
       "          1.9945e+00]])"
      ]
     },
     "execution_count": 14,
     "metadata": {},
     "output_type": "execute_result"
    }
   ],
   "source": [
    "feats1"
   ]
  },
  {
   "cell_type": "code",
   "execution_count": null,
   "id": "41dca04d-7518-4739-bf62-95ad4bfc3f19",
   "metadata": {},
   "outputs": [],
   "source": []
  }
 ],
 "metadata": {
  "kernelspec": {
   "display_name": "glc23",
   "language": "python",
   "name": "glc23"
  },
  "language_info": {
   "codemirror_mode": {
    "name": "ipython",
    "version": 3
   },
   "file_extension": ".py",
   "mimetype": "text/x-python",
   "name": "python",
   "nbconvert_exporter": "python",
   "pygments_lexer": "ipython3",
   "version": "3.9.16"
  }
 },
 "nbformat": 4,
 "nbformat_minor": 5
}
